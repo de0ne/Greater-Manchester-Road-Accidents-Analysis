{
 "cells": [
  {
   "cell_type": "markdown",
   "id": "047d1de8",
   "metadata": {},
   "source": [
    "# GREATER MANCHESTER COUNTY ROAD ACCIDENTS ANALYSIS"
   ]
  },
  {
   "cell_type": "markdown",
   "id": "ab010e1b",
   "metadata": {},
   "source": [
    "_Analysis by Babatunde Akeredolu_"
   ]
  },
  {
   "cell_type": "markdown",
   "id": "a520ec51",
   "metadata": {},
   "source": [
    "## Introduction"
   ]
  },
  {
   "cell_type": "markdown",
   "id": "5d089299",
   "metadata": {},
   "source": [
    "Road accident is one of the most dangerous threats to the health and lives of people around the world today, thousands of deaths are as a result of road accidents every year. In a bid to proffer solutions to the occurrence of road accidents, I did an analysis of Greater Manchester county road accident dataset, Greater Manchester is a metropolitan county and combined authority area in North West England, with a population of 2.8 million. I provided some recommendations that can help reduce road accidents in this county."
   ]
  },
  {
   "cell_type": "markdown",
   "id": "d47f7eb2",
   "metadata": {},
   "source": [
    "## Contents"
   ]
  },
  {
   "cell_type": "markdown",
   "id": "0a3550da",
   "metadata": {},
   "source": [
    "1. Introduction\n",
    "\n",
    "2. Contents\n",
    "\n",
    "3. Import the libraries\n",
    "\n",
    "4. Gathering the data\n",
    "\n",
    "5. Assessing the data\n",
    "\n",
    "6. Cleaning the data\n",
    "\n",
    "7. Visualization\n",
    "\n",
    "8. Recomendations"
   ]
  },
  {
   "cell_type": "markdown",
   "id": "0f893539",
   "metadata": {},
   "source": [
    "## Import the libraries"
   ]
  },
  {
   "cell_type": "markdown",
   "id": "b61b4fb6",
   "metadata": {},
   "source": [
    "In this section, the required libraries were imported."
   ]
  },
  {
   "cell_type": "code",
   "execution_count": 2,
   "id": "6396cfbd",
   "metadata": {},
   "outputs": [],
   "source": [
    "import pandas as pd #for data manipulation and analysis\n",
    "import numpy as np #for working with arrays and performing mathematical functions\n",
    "import matplotlib as mpl #for data visualization and graphical plotting\n",
    "import matplotlib.pyplot as plt #for creating static, animated, and interactive visualizations\n",
    "import seaborn as sns #for making statistical graphics\n",
    "import warnings\n",
    "warnings.filterwarnings('ignore') #for ignoring warnings\n",
    "import plotly.graph_objects as go\n",
    "from plotly.graph_objects import Layout"
   ]
  },
  {
   "cell_type": "markdown",
   "id": "083f6f92",
   "metadata": {},
   "source": [
    "## Data Wrangling"
   ]
  },
  {
   "cell_type": "markdown",
   "id": "057e1701",
   "metadata": {},
   "source": [
    "### Gathering the data"
   ]
  },
  {
   "cell_type": "markdown",
   "id": "1f13011e",
   "metadata": {},
   "source": [
    "The dataset used in this analysis was downloaded from data.world and can be assessed [here.](https://data.world/datagov-uk/25170a92-0736-4090-baea-bf6add82d118/workspace/file?filename=2010-2020-stats19-data-accidents-greater-manchester-4.csv)"
   ]
  },
  {
   "cell_type": "code",
   "execution_count": 3,
   "id": "676d96c9",
   "metadata": {},
   "outputs": [],
   "source": [
    "#specify the file path\n",
    "filepath = 'C:/Users/asus/Desktop/DATA ANALYTICS/projects/greater manchester accidents' \n",
    "\n",
    "#specify the file name\n",
    "filename = '2010-2020-stats19-data-accidents-greater-manchester-4.csv' \n",
    "\n",
    "Fullfilepath = filepath + '/' + filename #join the file path with the file name\n",
    "\n",
    "Manchester_dataset = pd.read_csv(Fullfilepath) #import the dataset"
   ]
  },
  {
   "cell_type": "markdown",
   "id": "59e9165f",
   "metadata": {},
   "source": [
    "### Assessing the data"
   ]
  },
  {
   "cell_type": "markdown",
   "id": "cc30c203",
   "metadata": {},
   "source": [
    "This section helps in understanding the data. The dataset was assessed for quality and tidiness issues both programmatically and visually. The number of rows and columns; column types and contents; duplicated rows and null values were all assessed. I had to do this to better understand the data I will be working with and also identify the cleaning processes to be carried out."
   ]
  },
  {
   "cell_type": "code",
   "execution_count": 4,
   "id": "c37f766d",
   "metadata": {},
   "outputs": [
    {
     "data": {
      "text/html": [
       "<div>\n",
       "<style scoped>\n",
       "    .dataframe tbody tr th:only-of-type {\n",
       "        vertical-align: middle;\n",
       "    }\n",
       "\n",
       "    .dataframe tbody tr th {\n",
       "        vertical-align: top;\n",
       "    }\n",
       "\n",
       "    .dataframe thead th {\n",
       "        text-align: right;\n",
       "    }\n",
       "</style>\n",
       "<table border=\"1\" class=\"dataframe\">\n",
       "  <thead>\n",
       "    <tr style=\"text-align: right;\">\n",
       "      <th></th>\n",
       "      <th>Accident Index</th>\n",
       "      <th>Year</th>\n",
       "      <th>Severity</th>\n",
       "      <th>NumberVehicles</th>\n",
       "      <th>NumberCasualties</th>\n",
       "      <th>OutputDate</th>\n",
       "      <th>Day</th>\n",
       "      <th>OutputTime</th>\n",
       "      <th>Easting</th>\n",
       "      <th>Northing</th>\n",
       "      <th>...</th>\n",
       "      <th>Road2Class</th>\n",
       "      <th>Road2Number</th>\n",
       "      <th>PedCrossingHumanControl</th>\n",
       "      <th>PedCrossingPhysicalFacilities</th>\n",
       "      <th>LightingCondition</th>\n",
       "      <th>WeatherCondition</th>\n",
       "      <th>RoadSurface</th>\n",
       "      <th>SpecialConditions</th>\n",
       "      <th>CarriagewayHazard</th>\n",
       "      <th>PlaceReported</th>\n",
       "    </tr>\n",
       "  </thead>\n",
       "  <tbody>\n",
       "    <tr>\n",
       "      <th>0</th>\n",
       "      <td>102262412010</td>\n",
       "      <td>2010</td>\n",
       "      <td>3</td>\n",
       "      <td>2</td>\n",
       "      <td>1</td>\n",
       "      <td>01/01/2010</td>\n",
       "      <td>6</td>\n",
       "      <td>13:10</td>\n",
       "      <td>382347</td>\n",
       "      <td>390025</td>\n",
       "      <td>...</td>\n",
       "      <td>3</td>\n",
       "      <td>5103</td>\n",
       "      <td>0</td>\n",
       "      <td>0</td>\n",
       "      <td>1</td>\n",
       "      <td>1</td>\n",
       "      <td>4</td>\n",
       "      <td>0</td>\n",
       "      <td>0</td>\n",
       "      <td>1</td>\n",
       "    </tr>\n",
       "    <tr>\n",
       "      <th>1</th>\n",
       "      <td>102262562010</td>\n",
       "      <td>2010</td>\n",
       "      <td>3</td>\n",
       "      <td>2</td>\n",
       "      <td>1</td>\n",
       "      <td>01/01/2010</td>\n",
       "      <td>6</td>\n",
       "      <td>11:10</td>\n",
       "      <td>381892</td>\n",
       "      <td>390582</td>\n",
       "      <td>...</td>\n",
       "      <td>7</td>\n",
       "      <td>0</td>\n",
       "      <td>0</td>\n",
       "      <td>0</td>\n",
       "      <td>1</td>\n",
       "      <td>1</td>\n",
       "      <td>4</td>\n",
       "      <td>0</td>\n",
       "      <td>0</td>\n",
       "      <td>1</td>\n",
       "    </tr>\n",
       "    <tr>\n",
       "      <th>2</th>\n",
       "      <td>102264322010</td>\n",
       "      <td>2010</td>\n",
       "      <td>3</td>\n",
       "      <td>2</td>\n",
       "      <td>1</td>\n",
       "      <td>01/01/2010</td>\n",
       "      <td>6</td>\n",
       "      <td>17:30</td>\n",
       "      <td>385840</td>\n",
       "      <td>403134</td>\n",
       "      <td>...</td>\n",
       "      <td>7</td>\n",
       "      <td>0</td>\n",
       "      <td>0</td>\n",
       "      <td>0</td>\n",
       "      <td>4</td>\n",
       "      <td>1</td>\n",
       "      <td>2</td>\n",
       "      <td>0</td>\n",
       "      <td>0</td>\n",
       "      <td>2</td>\n",
       "    </tr>\n",
       "    <tr>\n",
       "      <th>3</th>\n",
       "      <td>107264182010</td>\n",
       "      <td>2010</td>\n",
       "      <td>3</td>\n",
       "      <td>3</td>\n",
       "      <td>1</td>\n",
       "      <td>01/01/2010</td>\n",
       "      <td>6</td>\n",
       "      <td>13:49</td>\n",
       "      <td>377762</td>\n",
       "      <td>403302</td>\n",
       "      <td>...</td>\n",
       "      <td>1</td>\n",
       "      <td>60</td>\n",
       "      <td>0</td>\n",
       "      <td>0</td>\n",
       "      <td>3</td>\n",
       "      <td>9</td>\n",
       "      <td>1</td>\n",
       "      <td>0</td>\n",
       "      <td>0</td>\n",
       "      <td>2</td>\n",
       "    </tr>\n",
       "    <tr>\n",
       "      <th>4</th>\n",
       "      <td>114261842010</td>\n",
       "      <td>2010</td>\n",
       "      <td>3</td>\n",
       "      <td>1</td>\n",
       "      <td>1</td>\n",
       "      <td>01/01/2010</td>\n",
       "      <td>6</td>\n",
       "      <td>01:55</td>\n",
       "      <td>355982</td>\n",
       "      <td>404620</td>\n",
       "      <td>...</td>\n",
       "      <td>0</td>\n",
       "      <td>0</td>\n",
       "      <td>0</td>\n",
       "      <td>0</td>\n",
       "      <td>7</td>\n",
       "      <td>9</td>\n",
       "      <td>1</td>\n",
       "      <td>0</td>\n",
       "      <td>0</td>\n",
       "      <td>2</td>\n",
       "    </tr>\n",
       "  </tbody>\n",
       "</table>\n",
       "<p>5 rows × 27 columns</p>\n",
       "</div>"
      ],
      "text/plain": [
       "   Accident Index  Year  Severity  NumberVehicles  NumberCasualties  \\\n",
       "0    102262412010  2010         3               2                 1   \n",
       "1    102262562010  2010         3               2                 1   \n",
       "2    102264322010  2010         3               2                 1   \n",
       "3    107264182010  2010         3               3                 1   \n",
       "4    114261842010  2010         3               1                 1   \n",
       "\n",
       "   OutputDate  Day OutputTime  Easting  Northing  ...  Road2Class  \\\n",
       "0  01/01/2010    6      13:10   382347    390025  ...           3   \n",
       "1  01/01/2010    6      11:10   381892    390582  ...           7   \n",
       "2  01/01/2010    6      17:30   385840    403134  ...           7   \n",
       "3  01/01/2010    6      13:49   377762    403302  ...           1   \n",
       "4  01/01/2010    6      01:55   355982    404620  ...           0   \n",
       "\n",
       "   Road2Number  PedCrossingHumanControl  PedCrossingPhysicalFacilities  \\\n",
       "0         5103                        0                              0   \n",
       "1            0                        0                              0   \n",
       "2            0                        0                              0   \n",
       "3           60                        0                              0   \n",
       "4            0                        0                              0   \n",
       "\n",
       "   LightingCondition  WeatherCondition  RoadSurface  SpecialConditions  \\\n",
       "0                  1                 1            4                  0   \n",
       "1                  1                 1            4                  0   \n",
       "2                  4                 1            2                  0   \n",
       "3                  3                 9            1                  0   \n",
       "4                  7                 9            1                  0   \n",
       "\n",
       "   CarriagewayHazard  PlaceReported  \n",
       "0                  0              1  \n",
       "1                  0              1  \n",
       "2                  0              2  \n",
       "3                  0              2  \n",
       "4                  0              2  \n",
       "\n",
       "[5 rows x 27 columns]"
      ]
     },
     "execution_count": 4,
     "metadata": {},
     "output_type": "execute_result"
    }
   ],
   "source": [
    "Manchester_dataset.head() #print the first five rows"
   ]
  },
  {
   "cell_type": "code",
   "execution_count": 5,
   "id": "8b0119bc",
   "metadata": {},
   "outputs": [
    {
     "name": "stdout",
     "output_type": "stream",
     "text": [
      "<class 'pandas.core.frame.DataFrame'>\n",
      "RangeIndex: 42624 entries, 0 to 42623\n",
      "Data columns (total 27 columns):\n",
      " #   Column                         Non-Null Count  Dtype \n",
      "---  ------                         --------------  ----- \n",
      " 0   Accident Index                 42624 non-null  int64 \n",
      " 1   Year                           42624 non-null  int64 \n",
      " 2   Severity                       42624 non-null  int64 \n",
      " 3   NumberVehicles                 42624 non-null  int64 \n",
      " 4   NumberCasualties               42624 non-null  int64 \n",
      " 5   OutputDate                     42624 non-null  object\n",
      " 6   Day                            42624 non-null  int64 \n",
      " 7   OutputTime                     42624 non-null  object\n",
      " 8   Easting                        42624 non-null  int64 \n",
      " 9   Northing                       42624 non-null  int64 \n",
      " 10  LocalAuthority                 42624 non-null  int64 \n",
      " 11  Road1Class                     42624 non-null  int64 \n",
      " 12  Road1Number                    42624 non-null  int64 \n",
      " 13  CarriagewayType                42624 non-null  int64 \n",
      " 14  SpeedLimit                     42624 non-null  int64 \n",
      " 15  JunctionDetail                 42624 non-null  int64 \n",
      " 16  JunctionControl                42624 non-null  int64 \n",
      " 17  Road2Class                     42624 non-null  int64 \n",
      " 18  Road2Number                    42624 non-null  int64 \n",
      " 19  PedCrossingHumanControl        42624 non-null  int64 \n",
      " 20  PedCrossingPhysicalFacilities  42624 non-null  int64 \n",
      " 21  LightingCondition              42624 non-null  int64 \n",
      " 22  WeatherCondition               42624 non-null  int64 \n",
      " 23  RoadSurface                    42624 non-null  int64 \n",
      " 24  SpecialConditions              42624 non-null  int64 \n",
      " 25  CarriagewayHazard              42624 non-null  int64 \n",
      " 26  PlaceReported                  42624 non-null  int64 \n",
      "dtypes: int64(25), object(2)\n",
      "memory usage: 8.8+ MB\n"
     ]
    }
   ],
   "source": [
    "Manchester_dataset.info() #display info about the dataset"
   ]
  },
  {
   "cell_type": "code",
   "execution_count": 6,
   "id": "5bf591fe",
   "metadata": {},
   "outputs": [
    {
     "data": {
      "text/plain": [
       "Accident Index                   0\n",
       "Year                             0\n",
       "Severity                         0\n",
       "NumberVehicles                   0\n",
       "NumberCasualties                 0\n",
       "OutputDate                       0\n",
       "Day                              0\n",
       "OutputTime                       0\n",
       "Easting                          0\n",
       "Northing                         0\n",
       "LocalAuthority                   0\n",
       "Road1Class                       0\n",
       "Road1Number                      0\n",
       "CarriagewayType                  0\n",
       "SpeedLimit                       0\n",
       "JunctionDetail                   0\n",
       "JunctionControl                  0\n",
       "Road2Class                       0\n",
       "Road2Number                      0\n",
       "PedCrossingHumanControl          0\n",
       "PedCrossingPhysicalFacilities    0\n",
       "LightingCondition                0\n",
       "WeatherCondition                 0\n",
       "RoadSurface                      0\n",
       "SpecialConditions                0\n",
       "CarriagewayHazard                0\n",
       "PlaceReported                    0\n",
       "dtype: int64"
      ]
     },
     "execution_count": 6,
     "metadata": {},
     "output_type": "execute_result"
    }
   ],
   "source": [
    "Manchester_dataset.isnull().sum() #check for null values"
   ]
  },
  {
   "cell_type": "code",
   "execution_count": 7,
   "id": "167e242d",
   "metadata": {},
   "outputs": [
    {
     "data": {
      "text/plain": [
       "0"
      ]
     },
     "execution_count": 7,
     "metadata": {},
     "output_type": "execute_result"
    }
   ],
   "source": [
    "Manchester_dataset.duplicated().sum() #print the number of duplicated rows"
   ]
  },
  {
   "cell_type": "markdown",
   "id": "76619d9c",
   "metadata": {},
   "source": [
    "### Cleaning the data"
   ]
  },
  {
   "cell_type": "markdown",
   "id": "a95ee0da",
   "metadata": {},
   "source": [
    "To perform the analysis, it is very important that the data to be analyzed is clean as unclean data can lead to inaccurate results. In this section, the following cleaning were performed on the dataset.\n",
    "\n",
    "\n",
    "* Some columns were dropped as they were not needed for the analysis, only eleven(11) were kept namely: Accident Index, Year, Severity, NumberVehicles, NumberCasualties, OutputDate, Day, OutputTime, SpeedLimit, WeatherCondition and RoadSurface.\n",
    "\n",
    "\n",
    "* The values in the 'Day' column were represented with numbers ranging from 1 to 7, these numbers were changed to their appropraite string with 1 being 'Sunday' and 7 being 'Monday'. I confirmed this from the 'OutputDate' column.\n",
    "\n",
    "\n",
    "* The values in the 'WeatherCondition' and 'RoadSurface' column  were changed from numeric representation to string representaion(the numbers were replaced with their apropraite phrases). This was confirmed from [here](https://data.world/datagov-uk/25170a92-0736-4090-baea-bf6add82d118/workspace/file?filename=stats19-road-accident-injury-statistics-report-form-5.pdf)\n",
    "\n",
    "\n",
    "* The following columns Accident Index, NumberVehicles, Number_of_Vehicles, NumberCasualties, OutputDate and OutputTime were renamed to Accident_id, Number_of_Vehicles, Number_of_Casualties, Date and Time respectively.\n",
    "\n",
    "\n",
    "* A new column namely 'Hour' was created, the hour was extracted from the time column. Hours with minutes greater than 30 were assigned with an additional value of one while those with 30minutes or less were assigned the exact hour value. For example, the time 11:30 was assigned an hour value of 11 because its minutes(30) was not greater than 30 while the time 2:32 was assigned an hour value of 3 because its minutes(32) is greater than 30."
   ]
  },
  {
   "cell_type": "code",
   "execution_count": 12,
   "id": "79f053a6",
   "metadata": {},
   "outputs": [],
   "source": [
    "dataset = Manchester_dataset.copy() #create a copy of the dataset"
   ]
  },
  {
   "cell_type": "code",
   "execution_count": 13,
   "id": "c74d3273",
   "metadata": {},
   "outputs": [],
   "source": [
    "dataset = dataset.iloc[:, np.r_[0:8, 14,22,23]] #select only the columns needed"
   ]
  },
  {
   "cell_type": "code",
   "execution_count": 14,
   "id": "92910f57",
   "metadata": {
    "scrolled": true
   },
   "outputs": [
    {
     "data": {
      "text/html": [
       "<div>\n",
       "<style scoped>\n",
       "    .dataframe tbody tr th:only-of-type {\n",
       "        vertical-align: middle;\n",
       "    }\n",
       "\n",
       "    .dataframe tbody tr th {\n",
       "        vertical-align: top;\n",
       "    }\n",
       "\n",
       "    .dataframe thead th {\n",
       "        text-align: right;\n",
       "    }\n",
       "</style>\n",
       "<table border=\"1\" class=\"dataframe\">\n",
       "  <thead>\n",
       "    <tr style=\"text-align: right;\">\n",
       "      <th></th>\n",
       "      <th>Accident Index</th>\n",
       "      <th>Year</th>\n",
       "      <th>Severity</th>\n",
       "      <th>NumberVehicles</th>\n",
       "      <th>NumberCasualties</th>\n",
       "      <th>OutputDate</th>\n",
       "      <th>Day</th>\n",
       "      <th>OutputTime</th>\n",
       "      <th>SpeedLimit</th>\n",
       "      <th>WeatherCondition</th>\n",
       "      <th>RoadSurface</th>\n",
       "    </tr>\n",
       "  </thead>\n",
       "  <tbody>\n",
       "    <tr>\n",
       "      <th>0</th>\n",
       "      <td>102262412010</td>\n",
       "      <td>2010</td>\n",
       "      <td>3</td>\n",
       "      <td>2</td>\n",
       "      <td>1</td>\n",
       "      <td>01/01/2010</td>\n",
       "      <td>Friday</td>\n",
       "      <td>13:10</td>\n",
       "      <td>50</td>\n",
       "      <td>1</td>\n",
       "      <td>4</td>\n",
       "    </tr>\n",
       "    <tr>\n",
       "      <th>1</th>\n",
       "      <td>102262562010</td>\n",
       "      <td>2010</td>\n",
       "      <td>3</td>\n",
       "      <td>2</td>\n",
       "      <td>1</td>\n",
       "      <td>01/01/2010</td>\n",
       "      <td>Friday</td>\n",
       "      <td>11:10</td>\n",
       "      <td>30</td>\n",
       "      <td>1</td>\n",
       "      <td>4</td>\n",
       "    </tr>\n",
       "    <tr>\n",
       "      <th>2</th>\n",
       "      <td>102264322010</td>\n",
       "      <td>2010</td>\n",
       "      <td>3</td>\n",
       "      <td>2</td>\n",
       "      <td>1</td>\n",
       "      <td>01/01/2010</td>\n",
       "      <td>Friday</td>\n",
       "      <td>17:30</td>\n",
       "      <td>30</td>\n",
       "      <td>1</td>\n",
       "      <td>2</td>\n",
       "    </tr>\n",
       "    <tr>\n",
       "      <th>3</th>\n",
       "      <td>107264182010</td>\n",
       "      <td>2010</td>\n",
       "      <td>3</td>\n",
       "      <td>3</td>\n",
       "      <td>1</td>\n",
       "      <td>01/01/2010</td>\n",
       "      <td>Friday</td>\n",
       "      <td>13:49</td>\n",
       "      <td>30</td>\n",
       "      <td>9</td>\n",
       "      <td>1</td>\n",
       "    </tr>\n",
       "    <tr>\n",
       "      <th>4</th>\n",
       "      <td>114261842010</td>\n",
       "      <td>2010</td>\n",
       "      <td>3</td>\n",
       "      <td>1</td>\n",
       "      <td>1</td>\n",
       "      <td>01/01/2010</td>\n",
       "      <td>Friday</td>\n",
       "      <td>01:55</td>\n",
       "      <td>30</td>\n",
       "      <td>9</td>\n",
       "      <td>1</td>\n",
       "    </tr>\n",
       "  </tbody>\n",
       "</table>\n",
       "</div>"
      ],
      "text/plain": [
       "   Accident Index  Year  Severity  NumberVehicles  NumberCasualties  \\\n",
       "0    102262412010  2010         3               2                 1   \n",
       "1    102262562010  2010         3               2                 1   \n",
       "2    102264322010  2010         3               2                 1   \n",
       "3    107264182010  2010         3               3                 1   \n",
       "4    114261842010  2010         3               1                 1   \n",
       "\n",
       "   OutputDate     Day OutputTime  SpeedLimit  WeatherCondition  RoadSurface  \n",
       "0  01/01/2010  Friday      13:10          50                 1            4  \n",
       "1  01/01/2010  Friday      11:10          30                 1            4  \n",
       "2  01/01/2010  Friday      17:30          30                 1            2  \n",
       "3  01/01/2010  Friday      13:49          30                 9            1  \n",
       "4  01/01/2010  Friday      01:55          30                 9            1  "
      ]
     },
     "execution_count": 14,
     "metadata": {},
     "output_type": "execute_result"
    }
   ],
   "source": [
    "#change the weekday from numeric representation to the day name\n",
    "weekday = []\n",
    "for column in dataset['Day']:\n",
    "    if column == 1:\n",
    "        day = 'Sunday'\n",
    "        weekday.append(day)\n",
    "    elif column == 2:\n",
    "        day = 'Monday'\n",
    "        weekday.append(day)\n",
    "    elif column == 3:\n",
    "        day = 'Tuesday'\n",
    "        weekday.append(day)\n",
    "    elif column == 4:\n",
    "        day = 'Wednesday'\n",
    "        weekday.append(day)\n",
    "    elif column == 5:\n",
    "        day = 'Thursday'\n",
    "        weekday.append(day)\n",
    "    elif column == 6:\n",
    "        day = 'Friday'\n",
    "        weekday.append(day)\n",
    "    elif column == 7:\n",
    "        day = 'Saturday'\n",
    "        weekday.append(day)\n",
    "    else:\n",
    "        day = 'Unknown'\n",
    "        weekday.append(day)\n",
    "        \n",
    "dataset['Day'] = weekday\n",
    "\n",
    "dataset.head()"
   ]
  },
  {
   "cell_type": "code",
   "execution_count": 15,
   "id": "507fc49f",
   "metadata": {},
   "outputs": [],
   "source": [
    "m=dataset['WeatherCondition']\n",
    "\n",
    "#change the weatherCondition column from numeric representation to string representation\n",
    "conditions = [(m==1),(m==2),(m==3),(m==4),(m==5),(m==6),(m==7),(m==8),(m==9)]\n",
    "\n",
    "values = ['Fine without high winds','Raining without high winds','Snowing without high winds','Fine with high winds',\n",
    "         'Raining with high winds','Snowing with high winds','Fog or mist — if hazard','Other','Unknown']\n",
    "\n",
    "dataset['WeatherCondition'] = np.select(conditions, values)"
   ]
  },
  {
   "cell_type": "code",
   "execution_count": 16,
   "id": "5b89cae5",
   "metadata": {},
   "outputs": [],
   "source": [
    "#create a function to replace numeric representation to string representaton in the 'RoadSurface' column\n",
    "def replace_column(df, x1, y1, x2, y2, x3, y3, x4, y4, x5, y5):\n",
    "    empty_list = [] \n",
    "    for column in df:\n",
    "        if column == x1:\n",
    "            res = y1\n",
    "            empty_list.append(res) \n",
    "        elif column == x2:\n",
    "            res = y2\n",
    "            empty_list.append(res)\n",
    "        elif column == x3:\n",
    "            res = y3\n",
    "            empty_list.append(res)\n",
    "        elif column == x4:\n",
    "            res = y4\n",
    "            empty_list.append(res)\n",
    "        elif column == x5:\n",
    "            res = y5\n",
    "            empty_list.append(res)\n",
    "        else:\n",
    "            res = 'Unknown'\n",
    "            empty_list.append(res)\n",
    "    new_column = input('Enter your new column')\n",
    "    dataset[new_column] = empty_list\n",
    "    \n",
    "    return dataset.head()"
   ]
  },
  {
   "cell_type": "code",
   "execution_count": 17,
   "id": "7abd4ac4",
   "metadata": {},
   "outputs": [
    {
     "name": "stdout",
     "output_type": "stream",
     "text": [
      "Enter your new columnRoadSurface\n"
     ]
    },
    {
     "data": {
      "text/html": [
       "<div>\n",
       "<style scoped>\n",
       "    .dataframe tbody tr th:only-of-type {\n",
       "        vertical-align: middle;\n",
       "    }\n",
       "\n",
       "    .dataframe tbody tr th {\n",
       "        vertical-align: top;\n",
       "    }\n",
       "\n",
       "    .dataframe thead th {\n",
       "        text-align: right;\n",
       "    }\n",
       "</style>\n",
       "<table border=\"1\" class=\"dataframe\">\n",
       "  <thead>\n",
       "    <tr style=\"text-align: right;\">\n",
       "      <th></th>\n",
       "      <th>Accident Index</th>\n",
       "      <th>Year</th>\n",
       "      <th>Severity</th>\n",
       "      <th>NumberVehicles</th>\n",
       "      <th>NumberCasualties</th>\n",
       "      <th>OutputDate</th>\n",
       "      <th>Day</th>\n",
       "      <th>OutputTime</th>\n",
       "      <th>SpeedLimit</th>\n",
       "      <th>WeatherCondition</th>\n",
       "      <th>RoadSurface</th>\n",
       "    </tr>\n",
       "  </thead>\n",
       "  <tbody>\n",
       "    <tr>\n",
       "      <th>0</th>\n",
       "      <td>102262412010</td>\n",
       "      <td>2010</td>\n",
       "      <td>3</td>\n",
       "      <td>2</td>\n",
       "      <td>1</td>\n",
       "      <td>01/01/2010</td>\n",
       "      <td>Friday</td>\n",
       "      <td>13:10</td>\n",
       "      <td>50</td>\n",
       "      <td>Fine without high winds</td>\n",
       "      <td>Frost / Ice</td>\n",
       "    </tr>\n",
       "    <tr>\n",
       "      <th>1</th>\n",
       "      <td>102262562010</td>\n",
       "      <td>2010</td>\n",
       "      <td>3</td>\n",
       "      <td>2</td>\n",
       "      <td>1</td>\n",
       "      <td>01/01/2010</td>\n",
       "      <td>Friday</td>\n",
       "      <td>11:10</td>\n",
       "      <td>30</td>\n",
       "      <td>Fine without high winds</td>\n",
       "      <td>Frost / Ice</td>\n",
       "    </tr>\n",
       "    <tr>\n",
       "      <th>2</th>\n",
       "      <td>102264322010</td>\n",
       "      <td>2010</td>\n",
       "      <td>3</td>\n",
       "      <td>2</td>\n",
       "      <td>1</td>\n",
       "      <td>01/01/2010</td>\n",
       "      <td>Friday</td>\n",
       "      <td>17:30</td>\n",
       "      <td>30</td>\n",
       "      <td>Fine without high winds</td>\n",
       "      <td>Wet / Damp</td>\n",
       "    </tr>\n",
       "    <tr>\n",
       "      <th>3</th>\n",
       "      <td>107264182010</td>\n",
       "      <td>2010</td>\n",
       "      <td>3</td>\n",
       "      <td>3</td>\n",
       "      <td>1</td>\n",
       "      <td>01/01/2010</td>\n",
       "      <td>Friday</td>\n",
       "      <td>13:49</td>\n",
       "      <td>30</td>\n",
       "      <td>Unknown</td>\n",
       "      <td>Dry</td>\n",
       "    </tr>\n",
       "    <tr>\n",
       "      <th>4</th>\n",
       "      <td>114261842010</td>\n",
       "      <td>2010</td>\n",
       "      <td>3</td>\n",
       "      <td>1</td>\n",
       "      <td>1</td>\n",
       "      <td>01/01/2010</td>\n",
       "      <td>Friday</td>\n",
       "      <td>01:55</td>\n",
       "      <td>30</td>\n",
       "      <td>Unknown</td>\n",
       "      <td>Dry</td>\n",
       "    </tr>\n",
       "  </tbody>\n",
       "</table>\n",
       "</div>"
      ],
      "text/plain": [
       "   Accident Index  Year  Severity  NumberVehicles  NumberCasualties  \\\n",
       "0    102262412010  2010         3               2                 1   \n",
       "1    102262562010  2010         3               2                 1   \n",
       "2    102264322010  2010         3               2                 1   \n",
       "3    107264182010  2010         3               3                 1   \n",
       "4    114261842010  2010         3               1                 1   \n",
       "\n",
       "   OutputDate     Day OutputTime  SpeedLimit         WeatherCondition  \\\n",
       "0  01/01/2010  Friday      13:10          50  Fine without high winds   \n",
       "1  01/01/2010  Friday      11:10          30  Fine without high winds   \n",
       "2  01/01/2010  Friday      17:30          30  Fine without high winds   \n",
       "3  01/01/2010  Friday      13:49          30                  Unknown   \n",
       "4  01/01/2010  Friday      01:55          30                  Unknown   \n",
       "\n",
       "   RoadSurface  \n",
       "0  Frost / Ice  \n",
       "1  Frost / Ice  \n",
       "2   Wet / Damp  \n",
       "3          Dry  \n",
       "4          Dry  "
      ]
     },
     "execution_count": 17,
     "metadata": {},
     "output_type": "execute_result"
    }
   ],
   "source": [
    "#change the 'RoadSurface' column from numeric representation to string representation\n",
    "replace_column(dataset['RoadSurface'],1,'Dry',2,'Wet / Damp',3,'Snow',4,'Frost / Ice',5,'Flood (surface water over 3cm deep)')"
   ]
  },
  {
   "cell_type": "code",
   "execution_count": 18,
   "id": "59c82f36",
   "metadata": {},
   "outputs": [],
   "source": [
    "#rename some columns\n",
    "dataset = dataset.rename(columns ={'Accident Index':'Accident_id', 'NumberVehicles':'Number_of_Vehicles',\n",
    "                                  'NumberCasualties':'Number_of_Casualties', 'OutputDate':'Date', 'OutputTime':'Time'})"
   ]
  },
  {
   "cell_type": "code",
   "execution_count": 19,
   "id": "ee16a09d",
   "metadata": {},
   "outputs": [
    {
     "name": "stdout",
     "output_type": "stream",
     "text": [
      "<class 'pandas.core.frame.DataFrame'>\n",
      "RangeIndex: 42624 entries, 0 to 42623\n",
      "Data columns (total 11 columns):\n",
      " #   Column                Non-Null Count  Dtype \n",
      "---  ------                --------------  ----- \n",
      " 0   Accident_id           42624 non-null  int64 \n",
      " 1   Year                  42624 non-null  int64 \n",
      " 2   Severity              42624 non-null  int64 \n",
      " 3   Number_of_Vehicles    42624 non-null  int64 \n",
      " 4   Number_of_Casualties  42624 non-null  int64 \n",
      " 5   Date                  42624 non-null  object\n",
      " 6   Day                   42624 non-null  object\n",
      " 7   Time                  42624 non-null  object\n",
      " 8   SpeedLimit            42624 non-null  int64 \n",
      " 9   WeatherCondition      42624 non-null  object\n",
      " 10  RoadSurface           42624 non-null  object\n",
      "dtypes: int64(6), object(5)\n",
      "memory usage: 3.6+ MB\n"
     ]
    }
   ],
   "source": [
    "dataset.info()"
   ]
  },
  {
   "cell_type": "code",
   "execution_count": 20,
   "id": "ede68805",
   "metadata": {},
   "outputs": [],
   "source": [
    "dataset['Hour'] = pd.to_datetime(dataset['Time']).dt.hour #create a new column for the specific hour\n",
    "\n",
    "dataset['Minute'] = pd.to_datetime(dataset['Time']).dt.minute #create a new column for the specific minute"
   ]
  },
  {
   "cell_type": "code",
   "execution_count": 21,
   "id": "a81d1b1a",
   "metadata": {},
   "outputs": [],
   "source": [
    "dataset['Minute'] = pd.to_numeric(dataset['Minute']) #convert the 'Minute' column type to numeric"
   ]
  },
  {
   "cell_type": "code",
   "execution_count": 22,
   "id": "c26da5f4",
   "metadata": {},
   "outputs": [],
   "source": [
    "conditions1 = [(dataset['Minute'] > 30), (dataset['Minute'] <=30)] #set the conditions\n",
    "\n",
    "values1 = [(dataset['Hour'] + 1), dataset['Hour']] #set the values\n",
    "\n",
    "dataset['Hour'] = np.select(conditions1,values1) #add one hour to the 'hour' column if minute is more than 30"
   ]
  },
  {
   "cell_type": "code",
   "execution_count": 23,
   "id": "09f0ae8b",
   "metadata": {},
   "outputs": [],
   "source": [
    "dataset['Hour'] = dataset['Hour'].replace(24, 0) #replace 24hour with 0"
   ]
  },
  {
   "cell_type": "markdown",
   "id": "0b6aaa0e",
   "metadata": {},
   "source": [
    "I had to change the 24hr to 0hr so the dataset can be consistent as both values were referring to the same hour of the day"
   ]
  },
  {
   "cell_type": "code",
   "execution_count": 24,
   "id": "aa2bc562",
   "metadata": {},
   "outputs": [
    {
     "data": {
      "text/html": [
       "<div>\n",
       "<style scoped>\n",
       "    .dataframe tbody tr th:only-of-type {\n",
       "        vertical-align: middle;\n",
       "    }\n",
       "\n",
       "    .dataframe tbody tr th {\n",
       "        vertical-align: top;\n",
       "    }\n",
       "\n",
       "    .dataframe thead th {\n",
       "        text-align: right;\n",
       "    }\n",
       "</style>\n",
       "<table border=\"1\" class=\"dataframe\">\n",
       "  <thead>\n",
       "    <tr style=\"text-align: right;\">\n",
       "      <th></th>\n",
       "      <th>Accident_id</th>\n",
       "      <th>Year</th>\n",
       "      <th>Severity</th>\n",
       "      <th>Number_of_Vehicles</th>\n",
       "      <th>Number_of_Casualties</th>\n",
       "      <th>Date</th>\n",
       "      <th>Day</th>\n",
       "      <th>Time</th>\n",
       "      <th>SpeedLimit</th>\n",
       "      <th>WeatherCondition</th>\n",
       "      <th>RoadSurface</th>\n",
       "      <th>Hour</th>\n",
       "      <th>Minute</th>\n",
       "    </tr>\n",
       "  </thead>\n",
       "  <tbody>\n",
       "    <tr>\n",
       "      <th>42619</th>\n",
       "      <td>100792182020</td>\n",
       "      <td>2020</td>\n",
       "      <td>3</td>\n",
       "      <td>2</td>\n",
       "      <td>1</td>\n",
       "      <td>31/12/2020</td>\n",
       "      <td>Thursday</td>\n",
       "      <td>06:40</td>\n",
       "      <td>30</td>\n",
       "      <td>Snowing without high winds</td>\n",
       "      <td>Snow</td>\n",
       "      <td>7</td>\n",
       "      <td>40</td>\n",
       "    </tr>\n",
       "    <tr>\n",
       "      <th>42620</th>\n",
       "      <td>102787772020</td>\n",
       "      <td>2020</td>\n",
       "      <td>3</td>\n",
       "      <td>2</td>\n",
       "      <td>1</td>\n",
       "      <td>31/12/2020</td>\n",
       "      <td>Thursday</td>\n",
       "      <td>06:30</td>\n",
       "      <td>30</td>\n",
       "      <td>Snowing without high winds</td>\n",
       "      <td>Snow</td>\n",
       "      <td>6</td>\n",
       "      <td>30</td>\n",
       "    </tr>\n",
       "    <tr>\n",
       "      <th>42621</th>\n",
       "      <td>102790472020</td>\n",
       "      <td>2020</td>\n",
       "      <td>3</td>\n",
       "      <td>2</td>\n",
       "      <td>2</td>\n",
       "      <td>31/12/2020</td>\n",
       "      <td>Thursday</td>\n",
       "      <td>20:10</td>\n",
       "      <td>30</td>\n",
       "      <td>Fine without high winds</td>\n",
       "      <td>Frost / Ice</td>\n",
       "      <td>20</td>\n",
       "      <td>10</td>\n",
       "    </tr>\n",
       "    <tr>\n",
       "      <th>42622</th>\n",
       "      <td>106790322020</td>\n",
       "      <td>2020</td>\n",
       "      <td>3</td>\n",
       "      <td>2</td>\n",
       "      <td>2</td>\n",
       "      <td>31/12/2020</td>\n",
       "      <td>Thursday</td>\n",
       "      <td>15:00</td>\n",
       "      <td>30</td>\n",
       "      <td>Fine without high winds</td>\n",
       "      <td>Wet / Damp</td>\n",
       "      <td>15</td>\n",
       "      <td>0</td>\n",
       "    </tr>\n",
       "    <tr>\n",
       "      <th>42623</th>\n",
       "      <td>110787712020</td>\n",
       "      <td>2020</td>\n",
       "      <td>2</td>\n",
       "      <td>1</td>\n",
       "      <td>1</td>\n",
       "      <td>31/12/2020</td>\n",
       "      <td>Thursday</td>\n",
       "      <td>11:56</td>\n",
       "      <td>30</td>\n",
       "      <td>Fine without high winds</td>\n",
       "      <td>Dry</td>\n",
       "      <td>12</td>\n",
       "      <td>56</td>\n",
       "    </tr>\n",
       "  </tbody>\n",
       "</table>\n",
       "</div>"
      ],
      "text/plain": [
       "        Accident_id  Year  Severity  Number_of_Vehicles  Number_of_Casualties  \\\n",
       "42619  100792182020  2020         3                   2                     1   \n",
       "42620  102787772020  2020         3                   2                     1   \n",
       "42621  102790472020  2020         3                   2                     2   \n",
       "42622  106790322020  2020         3                   2                     2   \n",
       "42623  110787712020  2020         2                   1                     1   \n",
       "\n",
       "             Date       Day   Time  SpeedLimit            WeatherCondition  \\\n",
       "42619  31/12/2020  Thursday  06:40          30  Snowing without high winds   \n",
       "42620  31/12/2020  Thursday  06:30          30  Snowing without high winds   \n",
       "42621  31/12/2020  Thursday  20:10          30     Fine without high winds   \n",
       "42622  31/12/2020  Thursday  15:00          30     Fine without high winds   \n",
       "42623  31/12/2020  Thursday  11:56          30     Fine without high winds   \n",
       "\n",
       "       RoadSurface  Hour  Minute  \n",
       "42619         Snow     7      40  \n",
       "42620         Snow     6      30  \n",
       "42621  Frost / Ice    20      10  \n",
       "42622   Wet / Damp    15       0  \n",
       "42623          Dry    12      56  "
      ]
     },
     "execution_count": 24,
     "metadata": {},
     "output_type": "execute_result"
    }
   ],
   "source": [
    "dataset.tail() #print the last five rows"
   ]
  },
  {
   "cell_type": "code",
   "execution_count": 25,
   "id": "a92d6a4b",
   "metadata": {},
   "outputs": [],
   "source": [
    "dataset.drop(columns = {'Minute'}, inplace = True) #drop the minute column"
   ]
  },
  {
   "cell_type": "code",
   "execution_count": 26,
   "id": "a32728b4",
   "metadata": {},
   "outputs": [],
   "source": [
    "#save the dataset into a csv file\n",
    "dataset.to_csv('C:/Users/asus/Desktop/DATA ANALYTICS/projects/greater manchester accidents/greater manchester.csv')"
   ]
  },
  {
   "cell_type": "markdown",
   "id": "1a0c2525",
   "metadata": {},
   "source": [
    "## Analysis  & Visualization"
   ]
  },
  {
   "cell_type": "markdown",
   "id": "89556218",
   "metadata": {},
   "source": [
    "#### Visualizing the total accidents by day of the week"
   ]
  },
  {
   "cell_type": "code",
   "execution_count": 27,
   "id": "f00d9352",
   "metadata": {},
   "outputs": [
    {
     "data": {
      "text/html": [
       "<div>\n",
       "<style scoped>\n",
       "    .dataframe tbody tr th:only-of-type {\n",
       "        vertical-align: middle;\n",
       "    }\n",
       "\n",
       "    .dataframe tbody tr th {\n",
       "        vertical-align: top;\n",
       "    }\n",
       "\n",
       "    .dataframe thead th {\n",
       "        text-align: right;\n",
       "    }\n",
       "</style>\n",
       "<table border=\"1\" class=\"dataframe\">\n",
       "  <thead>\n",
       "    <tr style=\"text-align: right;\">\n",
       "      <th></th>\n",
       "      <th>Day</th>\n",
       "      <th>no of accidents</th>\n",
       "    </tr>\n",
       "  </thead>\n",
       "  <tbody>\n",
       "    <tr>\n",
       "      <th>0</th>\n",
       "      <td>Friday</td>\n",
       "      <td>6856</td>\n",
       "    </tr>\n",
       "    <tr>\n",
       "      <th>1</th>\n",
       "      <td>Monday</td>\n",
       "      <td>6057</td>\n",
       "    </tr>\n",
       "    <tr>\n",
       "      <th>2</th>\n",
       "      <td>Saturday</td>\n",
       "      <td>5639</td>\n",
       "    </tr>\n",
       "    <tr>\n",
       "      <th>3</th>\n",
       "      <td>Sunday</td>\n",
       "      <td>4728</td>\n",
       "    </tr>\n",
       "    <tr>\n",
       "      <th>4</th>\n",
       "      <td>Thursday</td>\n",
       "      <td>6540</td>\n",
       "    </tr>\n",
       "    <tr>\n",
       "      <th>5</th>\n",
       "      <td>Tuesday</td>\n",
       "      <td>6459</td>\n",
       "    </tr>\n",
       "    <tr>\n",
       "      <th>6</th>\n",
       "      <td>Wednesday</td>\n",
       "      <td>6345</td>\n",
       "    </tr>\n",
       "  </tbody>\n",
       "</table>\n",
       "</div>"
      ],
      "text/plain": [
       "         Day  no of accidents\n",
       "0     Friday             6856\n",
       "1     Monday             6057\n",
       "2   Saturday             5639\n",
       "3     Sunday             4728\n",
       "4   Thursday             6540\n",
       "5    Tuesday             6459\n",
       "6  Wednesday             6345"
      ]
     },
     "execution_count": 27,
     "metadata": {},
     "output_type": "execute_result"
    }
   ],
   "source": [
    "#group by 'Day'\n",
    "weekday_data = dataset.groupby('Day').size().reset_index(name='no of accidents')\n",
    "\n",
    "weekday_data.head(7) #print first seven rows"
   ]
  },
  {
   "cell_type": "code",
   "execution_count": 28,
   "id": "d5f8884e",
   "metadata": {},
   "outputs": [],
   "source": [
    "#group by 'Day'\n",
    "weekday_data = dataset.groupby('Day').size().reset_index(name='no_of_accidents')\n",
    "\n",
    "#specify the categories to used\n",
    "cats = ['Sunday', 'Monday', 'Tuesday', 'Wednesday', 'Thursday', 'Friday', 'Saturday'] \n",
    "\n",
    "#change the order of the 'Day' column\n",
    "weekday_data['Day'] = pd.Categorical(weekday_data['Day'], categories = cats, ordered = True)\n",
    "\n",
    "weekday_data = weekday_data.sort_values('Day') #sort data by the 'Day' column"
   ]
  },
  {
   "cell_type": "code",
   "execution_count": 31,
   "id": "c6d08bd3",
   "metadata": {
    "scrolled": false
   },
   "outputs": [
    {
     "data": {
      "text/plain": [
       "(4500.0, 6962.4)"
      ]
     },
     "execution_count": 31,
     "metadata": {},
     "output_type": "execute_result"
    },
    {
     "data": {
      "image/png": "[encoded data removed]",
      "text/plain": [
       "<Figure size 864x432 with 1 Axes>"
      ]
     },
     "metadata": {
      "needs_background": "light"
     },
     "output_type": "display_data"
    }
   ],
   "source": [
    "plt.figure(figsize=(12,6)) #set the figure size\n",
    "\n",
    "#set the data, color and marker to use\n",
    "plt.plot(weekday_data.Day, weekday_data.no_of_accidents, color='skyblue', marker='o') \n",
    "plt.title('Total collisions by day') #set the title\n",
    "plt.xlabel('Day of the week') #set the xlabel\n",
    "plt.ylabel('no of accident') #set the ylabel\n",
    "plt.ylim(4500) #set the y-axis starting position"
   ]
  },
  {
   "cell_type": "markdown",
   "id": "2de26b0d",
   "metadata": {},
   "source": [
    "* Most number of accidents occur on Friday which is towards the weekend\n",
    "* Least number of accidents occur on Sunday"
   ]
  },
  {
   "cell_type": "markdown",
   "id": "4682af6d",
   "metadata": {},
   "source": [
    "#### Visualizing the total accidents by time of the day"
   ]
  },
  {
   "cell_type": "code",
   "execution_count": 33,
   "id": "4691eb66",
   "metadata": {},
   "outputs": [
    {
     "data": {
      "text/html": [
       "<div>\n",
       "<style scoped>\n",
       "    .dataframe tbody tr th:only-of-type {\n",
       "        vertical-align: middle;\n",
       "    }\n",
       "\n",
       "    .dataframe tbody tr th {\n",
       "        vertical-align: top;\n",
       "    }\n",
       "\n",
       "    .dataframe thead th {\n",
       "        text-align: right;\n",
       "    }\n",
       "</style>\n",
       "<table border=\"1\" class=\"dataframe\">\n",
       "  <thead>\n",
       "    <tr style=\"text-align: right;\">\n",
       "      <th></th>\n",
       "      <th>Hour</th>\n",
       "      <th>no_of_accidents</th>\n",
       "    </tr>\n",
       "  </thead>\n",
       "  <tbody>\n",
       "    <tr>\n",
       "      <th>0</th>\n",
       "      <td>0</td>\n",
       "      <td>718</td>\n",
       "    </tr>\n",
       "    <tr>\n",
       "      <th>1</th>\n",
       "      <td>1</td>\n",
       "      <td>545</td>\n",
       "    </tr>\n",
       "    <tr>\n",
       "      <th>2</th>\n",
       "      <td>2</td>\n",
       "      <td>445</td>\n",
       "    </tr>\n",
       "    <tr>\n",
       "      <th>3</th>\n",
       "      <td>3</td>\n",
       "      <td>364</td>\n",
       "    </tr>\n",
       "    <tr>\n",
       "      <th>4</th>\n",
       "      <td>4</td>\n",
       "      <td>287</td>\n",
       "    </tr>\n",
       "  </tbody>\n",
       "</table>\n",
       "</div>"
      ],
      "text/plain": [
       "   Hour  no_of_accidents\n",
       "0     0              718\n",
       "1     1              545\n",
       "2     2              445\n",
       "3     3              364\n",
       "4     4              287"
      ]
     },
     "execution_count": 33,
     "metadata": {},
     "output_type": "execute_result"
    }
   ],
   "source": [
    "#group by 'Hour' column\n",
    "time_data = dataset.groupby('Hour').size().reset_index(name='no_of_accidents')\n",
    "\n",
    "time_data.head() #print the first five rows"
   ]
  },
  {
   "cell_type": "code",
   "execution_count": 34,
   "id": "1e835fb3",
   "metadata": {},
   "outputs": [
    {
     "name": "stdout",
     "output_type": "stream",
     "text": [
      "<class 'pandas.core.frame.DataFrame'>\n",
      "RangeIndex: 24 entries, 0 to 23\n",
      "Data columns (total 2 columns):\n",
      " #   Column           Non-Null Count  Dtype\n",
      "---  ------           --------------  -----\n",
      " 0   Hour             24 non-null     int64\n",
      " 1   no_of_accidents  24 non-null     int64\n",
      "dtypes: int64(2)\n",
      "memory usage: 512.0 bytes\n"
     ]
    }
   ],
   "source": [
    "time_data.info() #check for more info"
   ]
  },
  {
   "cell_type": "code",
   "execution_count": 35,
   "id": "f111304d",
   "metadata": {},
   "outputs": [],
   "source": [
    "#convert 24hour timeframe to 12hour timeframe\n",
    "\n",
    "am_pm = []\n",
    "for Hour in time_data['Hour']:\n",
    "    if Hour == 0:\n",
    "        t = '12AM' #set 0hour as 12AM\n",
    "        am_pm.append(t)\n",
    "    elif (Hour > 0) and (Hour < 12):\n",
    "        t = str(Hour) + 'AM' #set hours less than 12 as AM\n",
    "        am_pm.append(t)\n",
    "    elif Hour == 12:\n",
    "        t= str(Hour) + 'PM' #set 12hour as 12PM\n",
    "        am_pm.append(t)\n",
    "    else:\n",
    "        t= str(Hour - 12) + 'PM' #set hours greater than 12 as PM\n",
    "        am_pm.append(t)\n",
    "    \n",
    "time_data['Hour'] = am_pm #replace the 'Hour' column with the result"
   ]
  },
  {
   "cell_type": "code",
   "execution_count": 36,
   "id": "d7f492df",
   "metadata": {},
   "outputs": [
    {
     "data": {
      "text/html": [
       "<div>\n",
       "<style scoped>\n",
       "    .dataframe tbody tr th:only-of-type {\n",
       "        vertical-align: middle;\n",
       "    }\n",
       "\n",
       "    .dataframe tbody tr th {\n",
       "        vertical-align: top;\n",
       "    }\n",
       "\n",
       "    .dataframe thead th {\n",
       "        text-align: right;\n",
       "    }\n",
       "</style>\n",
       "<table border=\"1\" class=\"dataframe\">\n",
       "  <thead>\n",
       "    <tr style=\"text-align: right;\">\n",
       "      <th></th>\n",
       "      <th>Hour</th>\n",
       "      <th>no_of_accidents</th>\n",
       "    </tr>\n",
       "  </thead>\n",
       "  <tbody>\n",
       "    <tr>\n",
       "      <th>0</th>\n",
       "      <td>12AM</td>\n",
       "      <td>718</td>\n",
       "    </tr>\n",
       "    <tr>\n",
       "      <th>1</th>\n",
       "      <td>1AM</td>\n",
       "      <td>545</td>\n",
       "    </tr>\n",
       "    <tr>\n",
       "      <th>2</th>\n",
       "      <td>2AM</td>\n",
       "      <td>445</td>\n",
       "    </tr>\n",
       "    <tr>\n",
       "      <th>3</th>\n",
       "      <td>3AM</td>\n",
       "      <td>364</td>\n",
       "    </tr>\n",
       "    <tr>\n",
       "      <th>4</th>\n",
       "      <td>4AM</td>\n",
       "      <td>287</td>\n",
       "    </tr>\n",
       "    <tr>\n",
       "      <th>5</th>\n",
       "      <td>5AM</td>\n",
       "      <td>264</td>\n",
       "    </tr>\n",
       "    <tr>\n",
       "      <th>6</th>\n",
       "      <td>6AM</td>\n",
       "      <td>495</td>\n",
       "    </tr>\n",
       "    <tr>\n",
       "      <th>7</th>\n",
       "      <td>7AM</td>\n",
       "      <td>1093</td>\n",
       "    </tr>\n",
       "    <tr>\n",
       "      <th>8</th>\n",
       "      <td>8AM</td>\n",
       "      <td>2486</td>\n",
       "    </tr>\n",
       "    <tr>\n",
       "      <th>9</th>\n",
       "      <td>9AM</td>\n",
       "      <td>2581</td>\n",
       "    </tr>\n",
       "    <tr>\n",
       "      <th>10</th>\n",
       "      <td>10AM</td>\n",
       "      <td>1664</td>\n",
       "    </tr>\n",
       "    <tr>\n",
       "      <th>11</th>\n",
       "      <td>11AM</td>\n",
       "      <td>1874</td>\n",
       "    </tr>\n",
       "    <tr>\n",
       "      <th>12</th>\n",
       "      <td>12PM</td>\n",
       "      <td>2186</td>\n",
       "    </tr>\n",
       "    <tr>\n",
       "      <th>13</th>\n",
       "      <td>1PM</td>\n",
       "      <td>2402</td>\n",
       "    </tr>\n",
       "    <tr>\n",
       "      <th>14</th>\n",
       "      <td>2PM</td>\n",
       "      <td>2487</td>\n",
       "    </tr>\n",
       "    <tr>\n",
       "      <th>15</th>\n",
       "      <td>3PM</td>\n",
       "      <td>3204</td>\n",
       "    </tr>\n",
       "    <tr>\n",
       "      <th>16</th>\n",
       "      <td>4PM</td>\n",
       "      <td>3519</td>\n",
       "    </tr>\n",
       "    <tr>\n",
       "      <th>17</th>\n",
       "      <td>5PM</td>\n",
       "      <td>3992</td>\n",
       "    </tr>\n",
       "    <tr>\n",
       "      <th>18</th>\n",
       "      <td>6PM</td>\n",
       "      <td>3569</td>\n",
       "    </tr>\n",
       "    <tr>\n",
       "      <th>19</th>\n",
       "      <td>7PM</td>\n",
       "      <td>2718</td>\n",
       "    </tr>\n",
       "    <tr>\n",
       "      <th>20</th>\n",
       "      <td>8PM</td>\n",
       "      <td>2010</td>\n",
       "    </tr>\n",
       "    <tr>\n",
       "      <th>21</th>\n",
       "      <td>9PM</td>\n",
       "      <td>1438</td>\n",
       "    </tr>\n",
       "    <tr>\n",
       "      <th>22</th>\n",
       "      <td>10PM</td>\n",
       "      <td>1294</td>\n",
       "    </tr>\n",
       "    <tr>\n",
       "      <th>23</th>\n",
       "      <td>11PM</td>\n",
       "      <td>989</td>\n",
       "    </tr>\n",
       "  </tbody>\n",
       "</table>\n",
       "</div>"
      ],
      "text/plain": [
       "    Hour  no_of_accidents\n",
       "0   12AM              718\n",
       "1    1AM              545\n",
       "2    2AM              445\n",
       "3    3AM              364\n",
       "4    4AM              287\n",
       "5    5AM              264\n",
       "6    6AM              495\n",
       "7    7AM             1093\n",
       "8    8AM             2486\n",
       "9    9AM             2581\n",
       "10  10AM             1664\n",
       "11  11AM             1874\n",
       "12  12PM             2186\n",
       "13   1PM             2402\n",
       "14   2PM             2487\n",
       "15   3PM             3204\n",
       "16   4PM             3519\n",
       "17   5PM             3992\n",
       "18   6PM             3569\n",
       "19   7PM             2718\n",
       "20   8PM             2010\n",
       "21   9PM             1438\n",
       "22  10PM             1294\n",
       "23  11PM              989"
      ]
     },
     "execution_count": 36,
     "metadata": {},
     "output_type": "execute_result"
    }
   ],
   "source": [
    "time_data #print the new table"
   ]
  },
  {
   "cell_type": "code",
   "execution_count": 40,
   "id": "0e05ed5a",
   "metadata": {
    "scrolled": false
   },
   "outputs": [
    {
     "data": {
      "text/plain": [
       "<matplotlib.collections.PolyCollection at 0x242a0095fd0>"
      ]
     },
     "execution_count": 40,
     "metadata": {},
     "output_type": "execute_result"
    },
    {
     "data": {
      "image/png": "[encoded data removed]",
      "text/plain": [
       "<Figure size 1080x504 with 1 Axes>"
      ]
     },
     "metadata": {
      "needs_background": "light"
     },
     "output_type": "display_data"
    }
   ],
   "source": [
    "plt.figure(figsize=(15,7)) #set figure size\n",
    "\n",
    "#set the data, color and marker to use\n",
    "plt.plot(time_data.Hour, time_data.no_of_accidents, color = 'skyblue', marker = 'o') \n",
    "plt.title('Total collisions by Hours of the day') #set title\n",
    "plt.xlabel('Time of the day') #set the x axis title\n",
    "plt.xticks(time_data.Hour[::2]) #set intervals between the x values\n",
    "plt.ylabel('no of accidents') #set the y axis title\n",
    "plt.fill_between(time_data.Hour, time_data.no_of_accidents, color = 'skyblue')"
   ]
  },
  {
   "cell_type": "markdown",
   "id": "5e4fa8f8",
   "metadata": {},
   "source": [
    "* Most accidents occur during rush hours(between 4pm and 6pm in the evening) and (8m to 9am in the morning)"
   ]
  },
  {
   "cell_type": "markdown",
   "id": "3ae28c45",
   "metadata": {},
   "source": [
    "#### Visualizing the most unique number of vehicles involved in the accidents"
   ]
  },
  {
   "cell_type": "code",
   "execution_count": 41,
   "id": "8def88f6",
   "metadata": {},
   "outputs": [],
   "source": [
    "#group by 'Number_of_Vehicles' column\n",
    "vehicle_data = dataset.groupby('Number_of_Vehicles').size().reset_index(name='total_accidents').sort_values(\n",
    "    'total_accidents', ascending = False).head(6)"
   ]
  },
  {
   "cell_type": "code",
   "execution_count": 42,
   "id": "23318707",
   "metadata": {
    "scrolled": false
   },
   "outputs": [
    {
     "data": {
      "text/plain": [
       "Text(0, 0.5, 'Total accidents')"
      ]
     },
     "execution_count": 42,
     "metadata": {},
     "output_type": "execute_result"
    },
    {
     "data": {
      "image/png": "[encoded data removed]",
      "text/plain": [
       "<Figure size 864x432 with 1 Axes>"
      ]
     },
     "metadata": {
      "needs_background": "light"
     },
     "output_type": "display_data"
    }
   ],
   "source": [
    "plt.figure(figsize=(12,6)) #set figure size\n",
    "\n",
    "#set the data to use\n",
    "plt.bar(vehicle_data.Number_of_Vehicles, vehicle_data.total_accidents)  \n",
    "plt.title('Total accidents by No of Vehicles') #set title\n",
    "plt.xlabel('Number of vehicles') #set the x axis title\n",
    "plt.ylabel('Total accidents') #set the y axis title"
   ]
  },
  {
   "cell_type": "markdown",
   "id": "76131368",
   "metadata": {},
   "source": [
    "* Most unique number of vehicles involved in the accidents is two(2)"
   ]
  },
  {
   "cell_type": "markdown",
   "id": "37c586a9",
   "metadata": {},
   "source": [
    "More Visualizations on my Tableau Dashboard [here](https://public.tableau.com/views/GreaterManchesterroadaccidentsdashboard/Dashboard12?:language=en-US&:display_count=n&:origin=viz_share_link)"
   ]
  },
  {
   "cell_type": "markdown",
   "id": "2f9c4762",
   "metadata": {},
   "source": [
    "## Recommendations\n",
    "\n",
    "* Facilities such as overhead bridge for pedestrians should be provided for safe crossing of pedestrians and other road users.\n",
    "\n",
    "\n",
    "* Traffic wardens should be provided during rush hours of the day.\n",
    "\n",
    "\n",
    "* Traffic control devices should be installed at appropriate places for road users to see and follow.\n",
    "\n",
    "\n",
    "* There should be regular public enlightenment education of the general public especially the motorists on the proper use of the road and road signs.\n",
    "\n",
    "\n",
    "* There should be strict penalties for road users that fail to follow the road signs and rules."
   ]
  },
  {
   "cell_type": "markdown",
   "id": "558d9166",
   "metadata": {},
   "source": [
    " \n",
    " \n",
    " \n",
    " \n",
    "  \n",
    "  \n",
    "  \n",
    "  \n",
    "   "
   ]
  },
  {
   "cell_type": "markdown",
   "id": "03184287",
   "metadata": {},
   "source": [
    "### THANKS FOR READING MY NOTEBOOK\n",
    "\n",
    "#### YOU CAN CHECK MY OTHER PAGES"
   ]
  },
  {
   "cell_type": "markdown",
   "id": "addf34f8",
   "metadata": {},
   "source": [
    "[Medium article](https://medium.com/@tundeakeredolu/15eea35e64c5?source=friends_link&sk=aa9c9b90a9560f0d44dc6df7aeecf0f9)\n",
    "\n",
    "[Tableau Profile](https://public.tableau.com/app/profile/babatunde.akeredolu)\n",
    "\n",
    "[LinkedIn](https://www.linkedin.com/in/babatunde-akeredolu-94213a19a)\n",
    "\n",
    "[Twitter](https://twitter.com/tundeakeredolu1?s=09)"
   ]
  }
 ],
 "metadata": {
  "kernelspec": {
   "display_name": "Python 3 (ipykernel)",
   "language": "python",
   "name": "python3"
  },
  "language_info": {
   "codemirror_mode": {
    "name": "ipython",
    "version": 3
   },
   "file_extension": ".py",
   "mimetype": "text/x-python",
   "name": "python",
   "nbconvert_exporter": "python",
   "pygments_lexer": "ipython3",
   "version": "3.9.7"
  }
 },
 "nbformat": 4,
 "nbformat_minor": 5
}
